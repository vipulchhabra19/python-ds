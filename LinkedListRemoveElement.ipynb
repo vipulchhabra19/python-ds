{
  "nbformat": 4,
  "nbformat_minor": 0,
  "metadata": {
    "colab": {
      "name": "LinkedListRemoveElement.ipynb",
      "provenance": [],
      "authorship_tag": "ABX9TyOqoYa/tfnpKleG7WkttTQ5",
      "include_colab_link": true
    },
    "kernelspec": {
      "name": "python3",
      "display_name": "Python 3"
    },
    "language_info": {
      "name": "python"
    }
  },
  "cells": [
    {
      "cell_type": "markdown",
      "metadata": {
        "id": "view-in-github",
        "colab_type": "text"
      },
      "source": [
        "<a href=\"https://colab.research.google.com/github/vipulchhabra19/python-ds/blob/main/LinkedListRemoveElement.ipynb\" target=\"_parent\"><img src=\"https://colab.research.google.com/assets/colab-badge.svg\" alt=\"Open In Colab\"/></a>"
      ]
    },
    {
      "cell_type": "markdown",
      "source": [
        "Create a Linked List using below class"
      ],
      "metadata": {
        "id": "_R-1bqRzWyQz"
      }
    },
    {
      "cell_type": "code",
      "source": [
        "class ListNode:\n",
        "  def __init__(self, val=0, next=None):\n",
        "    self.val = val\n",
        "    self.next = next\n",
        "\n",
        "\n",
        "head = ListNode(15)\n",
        "node2 = ListNode(8)\n",
        "node3 = ListNode(16)\n",
        "node4 = ListNode(4)\n",
        "\n",
        "head.next = node2\n",
        "node2.next = node3\n",
        "node3.next = node4\n",
        "\n"
      ],
      "metadata": {
        "id": "4LrlfA9FW3TK"
      },
      "execution_count": 4,
      "outputs": []
    },
    {
      "cell_type": "markdown",
      "source": [
        "Class for Removing a element from above created Linked List\n"
      ],
      "metadata": {
        "id": "NAMb9XU4Y0uX"
      }
    },
    {
      "cell_type": "code",
      "source": [
        "class RemoveElement:\n",
        "  def remove(self, head: ListNode, val: int):\n",
        "    print(val)\n",
        "\n",
        "    # check if head matches the val update the head\n",
        "    while head and head.val == val:\n",
        "      head = head.next\n",
        "\n",
        "    if not head:\n",
        "      return head\n",
        "\n",
        "    # iterate over all next elements \n",
        "    current = head\n",
        "    while current:\n",
        "      # if next matches the given val update the next element\n",
        "      if current.next and current.next.val == val:\n",
        "        current.next = current.next.next\n",
        "      else:\n",
        "        current = current.next\n",
        "\n",
        "    return head\n",
        "\n",
        "\n",
        "\n",
        "\n",
        "\n",
        "updated_linked_list = RemoveElement().remove(head, 16)\n",
        "\n",
        "\n",
        "# print new updated link list\n",
        "\n",
        "current = updated_linked_list\n",
        "while current:\n",
        "  print(f\"Node Value: {current.val} Next Node: {current.next.val if current.next else None}\")\n",
        "  current = current.next\n",
        "\n"
      ],
      "metadata": {
        "colab": {
          "base_uri": "https://localhost:8080/"
        },
        "id": "uQecA7qWZBUn",
        "outputId": "50f16c88-50bd-4453-926e-ff2450caba90"
      },
      "execution_count": 7,
      "outputs": [
        {
          "output_type": "stream",
          "name": "stdout",
          "text": [
            "16\n",
            "<__main__.ListNode object at 0x7f2874824a90>\n",
            "Node Value: 15 Next Node: 8\n",
            "Node Value: 8 Next Node: 4\n",
            "Node Value: 4 Next Node: None\n"
          ]
        }
      ]
    }
  ]
}
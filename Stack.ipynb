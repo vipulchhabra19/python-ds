{
  "nbformat": 4,
  "nbformat_minor": 0,
  "metadata": {
    "colab": {
      "name": "Stack.ipynb",
      "provenance": [],
      "authorship_tag": "ABX9TyPQLQ/T7+hEGmRQwvTqs4Uc",
      "include_colab_link": true
    },
    "kernelspec": {
      "name": "python3",
      "display_name": "Python 3"
    },
    "language_info": {
      "name": "python"
    }
  },
  "cells": [
    {
      "cell_type": "markdown",
      "metadata": {
        "id": "view-in-github",
        "colab_type": "text"
      },
      "source": [
        "<a href=\"https://colab.research.google.com/github/vipulchhabra19/python-ds/blob/main/Stack.ipynb\" target=\"_parent\"><img src=\"https://colab.research.google.com/assets/colab-badge.svg\" alt=\"Open In Colab\"/></a>"
      ]
    },
    {
      "cell_type": "markdown",
      "source": [
        "Create a STack class using python deque\n",
        "\n",
        "Python’s collections module provides a class called deque that’s specially designed to provide fast and memory-efficient ways to append and pop item from both ends of the underlying data structure\n",
        "\n",
        "\n",
        "\n"
      ],
      "metadata": {
        "id": "iBtBmEE96C47"
      }
    },
    {
      "cell_type": "code",
      "execution_count": 5,
      "metadata": {
        "colab": {
          "base_uri": "https://localhost:8080/"
        },
        "id": "v_S0HUhM5N2y",
        "outputId": "a8a543cd-a95d-4f4b-ec4d-cd5c2c8a9f01"
      },
      "outputs": [
        {
          "output_type": "stream",
          "name": "stdout",
          "text": [
            "1\n"
          ]
        }
      ],
      "source": [
        "from collections import deque\n",
        "class Stack:\n",
        "  def __init__(self):\n",
        "    self.__stack = deque()\n",
        "\n",
        "  def push(self, data):\n",
        "    self.__stack.append(data)\n",
        "\n",
        "  def pop(self):\n",
        "    return self.__stack.pop()\n",
        "\n",
        "  def pop_left(self):\n",
        "    return self.__stack.popleft()\n",
        "\n",
        "  def size(self):\n",
        "    return len(self.__stack)\n",
        "  \n",
        "  def peek(self):\n",
        "    pass\n",
        "\n",
        "  def is_empty(self):\n",
        "    pass\n",
        "\n",
        "my_stack = Stack()\n",
        "my_stack.push(1)\n",
        "my_stack.push(2)\n",
        "my_stack.push(3)\n",
        "my_stack.push(4)\n",
        "\n",
        "\n",
        "\n",
        "print(my_stack.pop_left())"
      ]
    }
  ]
}
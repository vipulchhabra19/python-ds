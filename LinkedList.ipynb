{
  "nbformat": 4,
  "nbformat_minor": 0,
  "metadata": {
    "colab": {
      "name": "LinkedList.ipynb",
      "provenance": [],
      "collapsed_sections": [],
      "authorship_tag": "ABX9TyMc8cmkFPsObmO9Bsw1TR76",
      "include_colab_link": true
    },
    "kernelspec": {
      "name": "python3",
      "display_name": "Python 3"
    },
    "language_info": {
      "name": "python"
    }
  },
  "cells": [
    {
      "cell_type": "markdown",
      "metadata": {
        "id": "view-in-github",
        "colab_type": "text"
      },
      "source": [
        "<a href=\"https://colab.research.google.com/github/vipulchhabra19/python-ds/blob/main/LinkedList.ipynb\" target=\"_parent\"><img src=\"https://colab.research.google.com/assets/colab-badge.svg\" alt=\"Open In Colab\"/></a>"
      ]
    },
    {
      "cell_type": "code",
      "execution_count": 8,
      "metadata": {
        "id": "PVRrsYoYpxf-",
        "colab": {
          "base_uri": "https://localhost:8080/"
        },
        "outputId": "73907351-20a2-48be-d311-d2f54b9829d1"
      },
      "outputs": [
        {
          "output_type": "stream",
          "name": "stdout",
          "text": [
            "Node 0 --> [JOHN | None]\n",
            "Node 1 --> [BEHN | <__main__.Node object at 0x7f0384f0a190>]\n",
            "Node 2 --> [MATHEW | <__main__.Node object at 0x7f0384f0a3d0>]\n",
            "Linked List: ['[JOHN | None]', '[BEHN | JOHN]', '[MATHEW | BEHN]']\n"
          ]
        }
      ],
      "source": [
        "class Node:\n",
        "  def __init__(self, data=None, next_node=None):\n",
        "    self.data = data\n",
        "    self.next_node = next_node\n",
        "\n",
        "  def get_data(self):\n",
        "    return self.data\n",
        "\n",
        "  def get_next(self):\n",
        "    return self.next\n",
        "\n",
        "  def set_next(self, next):\n",
        "    self.next_node = next\n",
        "\n",
        "class LinkedList:\n",
        "    def __init__(self, head=None):\n",
        "      self.head = None\n",
        "      self.size = 0\n",
        "      self.all_nodes = []\n",
        "\n",
        "    def add(self, data):\n",
        "      new_node = Node(data)\n",
        "      self.all_nodes.append(f\"[{new_node.get_data()} | {self.head.get_data() if self.head else None}]\")\n",
        "      print(f\"Node {self.size} --> [{new_node.get_data()} | {self.head}]\")\n",
        "      new_node.set_next = self.head\n",
        "      self.head = new_node\n",
        "      self.size += 1\n",
        "\n",
        "    def __str__(self):\n",
        "      return f\"Linked List: {self.all_nodes}\"\n",
        "\n",
        "\n",
        "ll = LinkedList()\n",
        "ll.add(\"JOHN\")\n",
        "ll.add(\"BEHN\")\n",
        "ll.add(\"MATHEW\")\n",
        "\n",
        "print(ll)\n",
        "    \n",
        "\n"
      ]
    }
  ]
}
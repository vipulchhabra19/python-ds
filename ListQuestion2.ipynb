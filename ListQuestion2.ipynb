{
  "nbformat": 4,
  "nbformat_minor": 0,
  "metadata": {
    "colab": {
      "name": "Untitled2.ipynb",
      "provenance": [],
      "authorship_tag": "ABX9TyPBP+9BRoYRSqA5q8dsZR7s",
      "include_colab_link": true
    },
    "kernelspec": {
      "name": "python3",
      "display_name": "Python 3"
    },
    "language_info": {
      "name": "python"
    }
  },
  "cells": [
    {
      "cell_type": "markdown",
      "metadata": {
        "id": "view-in-github",
        "colab_type": "text"
      },
      "source": [
        "<a href=\"https://colab.research.google.com/github/vipulchhabra19/python-ds/blob/main/ListQuestion2.ipynb\" target=\"_parent\"><img src=\"https://colab.research.google.com/assets/colab-badge.svg\" alt=\"Open In Colab\"/></a>"
      ]
    },
    {
      "cell_type": "code",
      "execution_count": 17,
      "metadata": {
        "colab": {
          "base_uri": "https://localhost:8080/"
        },
        "id": "AADrvDbGhkF2",
        "outputId": "bab11989-e826-47b5-d5de-2ca2b76bb402"
      },
      "outputs": [
        {
          "output_type": "stream",
          "name": "stdout",
          "text": [
            "i: 1\n",
            "j:  4\n",
            "sum: 5\n",
            "sum lesser 8 : 5, elements : []\n",
            "j:  3\n",
            "sum: 8\n",
            "sum equals 8 : 8, elements : []\n",
            "j:  3\n",
            "sum: 11\n",
            "sum greater 8 : 11, elements : [[1, 4, 3]]\n",
            "i: 4\n",
            "j:  3\n",
            "sum: 7\n",
            "sum lesser 8 : 7, elements : [[1, 4, 3]]\n",
            "j:  3\n",
            "sum: 10\n",
            "sum greater 8 : 10, elements : [[1, 4, 3]]\n",
            "i: 3\n",
            "j:  3\n",
            "sum: 6\n",
            "sum lesser 8 : 6, elements : [[1, 4, 3]]\n",
            "j:  6\n",
            "sum: 12\n",
            "sum greater 8 : 12, elements : [[1, 4, 3]]\n",
            "i: 3\n",
            "j:  6\n",
            "sum: 9\n",
            "sum greater 8 : 9, elements : [[1, 4, 3]]\n",
            "i: 6\n",
            "j:  2\n",
            "sum: 8\n",
            "sum equals 8 : 8, elements : [[1, 4, 3]]\n",
            "j:  8\n",
            "sum: 16\n",
            "sum greater 8 : 16, elements : [[1, 4, 3], [6, 2]]\n",
            "i: 2\n",
            "j:  8\n",
            "sum: 10\n",
            "sum greater 8 : 10, elements : [[1, 4, 3], [6, 2]]\n",
            "i: 8\n",
            "j:  5\n",
            "sum: 13\n",
            "sum greater 8 : 13, elements : [[1, 4, 3], [6, 2], [8]]\n",
            "i: 5\n",
            "j:  5\n",
            "sum: 10\n",
            "sum greater 8 : 10, elements : [[1, 4, 3], [6, 2], [8]]\n",
            "i: 5\n",
            "j:  3\n",
            "sum: 8\n",
            "sum equals 8 : 8, elements : [[1, 4, 3], [6, 2], [8]]\n",
            "i: 3\n",
            "elements: [[1, 4, 3], [6, 2], [8], [5, 3]]\n"
          ]
        }
      ],
      "source": [
        "l = [1,4,3,3,6,2,8,5,5,3]\n",
        "# from given list find sequence of numbers equals to expected_sum\n",
        "expected_sum = 8\n",
        "elements = []\n",
        "for i in range(0, len(l)):\n",
        "  \n",
        "  sum = l[i]\n",
        "  element_list = [l[i]]\n",
        "  if sum == expected_sum:\n",
        "    elements.append(element_list)\n",
        "  for j in range(i + 1, len(l)):\n",
        "    sum += l[j]\n",
        "    if sum > 8:\n",
        "      print(f\"sum greater 8 : {sum}, elements : {elements}\")\n",
        "      break\n",
        "    if sum < 8: \n",
        "      element_list.append(l[j])\n",
        "      print(f\"sum lesser 8 : {sum}, elements : {elements}\")\n",
        "      continue\n",
        "    if sum == expected_sum:\n",
        "      element_list.append(l[j])\n",
        "      print(f\"sum equals 8 : {sum}, elements : {elements}\")\n",
        "      elements.append(element_list)\n",
        "      continue\n",
        "\n",
        "  \n",
        "print(f\"elements: {elements}\")\n",
        "      \n",
        "\n",
        "      \n",
        "      \n",
        "\n",
        "      \n",
        "\n"
      ]
    }
  ]
}
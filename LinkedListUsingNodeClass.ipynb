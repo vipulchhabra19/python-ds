{
  "nbformat": 4,
  "nbformat_minor": 0,
  "metadata": {
    "colab": {
      "name": "LinkedListUsingNodeClass",
      "provenance": [],
      "toc_visible": true,
      "authorship_tag": "ABX9TyOhM0L0yFbA2hIcF5YXNqqY",
      "include_colab_link": true
    },
    "kernelspec": {
      "name": "python3",
      "display_name": "Python 3"
    },
    "language_info": {
      "name": "python"
    }
  },
  "cells": [
    {
      "cell_type": "markdown",
      "metadata": {
        "id": "view-in-github",
        "colab_type": "text"
      },
      "source": [
        "<a href=\"https://colab.research.google.com/github/vipulchhabra19/python-ds/blob/main/LinkedListUsingNodeClass.ipynb\" target=\"_parent\"><img src=\"https://colab.research.google.com/assets/colab-badge.svg\" alt=\"Open In Colab\"/></a>"
      ]
    },
    {
      "cell_type": "markdown",
      "source": [
        "# **Create a Node Class**"
      ],
      "metadata": {
        "id": "6PZW1ZlwLhyY"
      }
    },
    {
      "cell_type": "code",
      "execution_count": 20,
      "metadata": {
        "id": "Z2Jj9YELK8I-"
      },
      "outputs": [],
      "source": [
        "class Node:\n",
        "  def __init__(self, data=None):\n",
        "    self.data = data\n",
        "    self.next = None"
      ]
    },
    {
      "cell_type": "markdown",
      "source": [
        "**Create a Linked List using Node class and connect Nodes by using next**"
      ],
      "metadata": {
        "id": "vlCjyKi3LZrg"
      }
    },
    {
      "cell_type": "code",
      "source": [
        "head_node = Node(1)\n",
        "second_node = Node(2)\n",
        "third_node = Node(3)\n",
        "fourth = Node(4)\n",
        "fifth = Node(5)\n",
        "\n",
        "head_node.next = second_node\n",
        "second_node.next =  third_node\n",
        "third_node.next =  fourth\n",
        "fourth.next =  fifth"
      ],
      "metadata": {
        "id": "f4J121JdLm9Y"
      },
      "execution_count": 21,
      "outputs": []
    },
    {
      "cell_type": "markdown",
      "source": [
        "**Print Linked List using While Loop**"
      ],
      "metadata": {
        "id": "Hl2su2BwOwco"
      }
    },
    {
      "cell_type": "code",
      "source": [
        "current = head_node\n",
        "while current:\n",
        "  print(f\"Node Value: {current.data} Next Node: {current.next.data if current.next else None}\")\n",
        "  current = current.next\n",
        "\n"
      ],
      "metadata": {
        "colab": {
          "base_uri": "https://localhost:8080/"
        },
        "id": "CPpDyytnO5bW",
        "outputId": "2eeceda9-b0c0-4984-b938-dee07133352b"
      },
      "execution_count": 22,
      "outputs": [
        {
          "output_type": "stream",
          "name": "stdout",
          "text": [
            "Node Value: 1 Next Node: 2\n",
            "Node Value: 2 Next Node: 3\n",
            "Node Value: 3 Next Node: 4\n",
            "Node Value: 4 Next Node: 5\n",
            "Node Value: 5 Next Node: None\n"
          ]
        }
      ]
    }
  ]
}